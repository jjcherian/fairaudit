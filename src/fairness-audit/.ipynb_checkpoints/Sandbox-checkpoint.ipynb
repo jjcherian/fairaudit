{
 "cells": [
  {
   "cell_type": "code",
   "execution_count": 2,
   "id": "740e1b9b",
   "metadata": {},
   "outputs": [],
   "source": [
    "%load_ext autoreload\n",
    "%autoreload 2\n",
    "\n",
    "from groups import get_intersections"
   ]
  },
  {
   "cell_type": "code",
   "execution_count": 7,
   "id": "696492b1",
   "metadata": {},
   "outputs": [],
   "source": [
    "import numpy as np\n",
    "\n",
    "X1 = np.random.choice([0,1], size=(33,))\n",
    "X2 = np.random.choice(np.arange(5), size=(33,))\n",
    "\n",
    "X = np.stack((X1, X2), axis=1)"
   ]
  },
  {
   "cell_type": "code",
   "execution_count": null,
   "id": "7821ec0a",
   "metadata": {},
   "outputs": [],
   "source": []
  }
 ],
 "metadata": {
  "kernelspec": {
   "display_name": "Python 3 (ipykernel)",
   "language": "python",
   "name": "python3"
  },
  "language_info": {
   "codemirror_mode": {
    "name": "ipython",
    "version": 3
   },
   "file_extension": ".py",
   "mimetype": "text/x-python",
   "name": "python",
   "nbconvert_exporter": "python",
   "pygments_lexer": "ipython3",
   "version": "3.10.8"
  }
 },
 "nbformat": 4,
 "nbformat_minor": 5
}
