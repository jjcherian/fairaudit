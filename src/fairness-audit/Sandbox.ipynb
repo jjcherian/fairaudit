{
 "cells": [
  {
   "cell_type": "code",
   "execution_count": 1,
   "id": "85839758",
   "metadata": {},
   "outputs": [],
   "source": [
    "%load_ext autoreload\n",
    "%autoreload 2\n",
    "\n",
    "from groups import get_intersections\n",
    "\n",
    "\n"
   ]
  },
  {
   "cell_type": "code",
   "execution_count": null,
   "id": "7325c9b3",
   "metadata": {},
   "outputs": [],
   "source": [
    "import numpy as np\n",
    "\n",
    "X1 = np.random.choice([0,1], size=(3,))\n",
    "X2 = np.random.choice(np.arange(5), size=(3,))\n",
    "\n",
    "X = np.stack((X1, X2), axis=1)"
   ]
  },
  {
   "cell_type": "code",
   "execution_count": null,
   "id": "ee4ee21a",
   "metadata": {},
   "outputs": [],
   "source": [
    "discretization = {1 : [2,3]}\n",
    "\n",
    "for idx, disc in discretization.items():\n",
    "    X[:,idx] = np.digitize(\n",
    "        X[:,idx],\n",
    "        disc\n",
    "    )\n",
    "\n",
    "feature_list = np.arange(X.shape[1])\n",
    "if depth == None:\n",
    "    depth = X.shape[1]\n",
    "all_groups = []\n",
    "group_indices = []\n",
    "for n_intersect in range(1, depth + 1):\n",
    "    for c in combinations(feature_list, n_intersect):\n",
    "        unique_groups, indices = np.unique(X[:,c], return_inverse=True, axis=0)\n",
    "\n",
    "        # track groups\n",
    "        all_groups.extend([{c_ind : g_val for c_ind, g_val in zip(c, g)} for g in unique_groups])\n",
    "\n",
    "        # generate dummies\n",
    "        dummies = np.zeros((X.shape[0], len(unique_groups)), dtype=int)\n",
    "        dummies[(range(X.shape[0]), indices)] = int(1)\n",
    "        group_indices.append(dummies)\n",
    "\n",
    "group_indices = np.concatenate(group_indices, axis=1, dtype=int)"
   ]
  },
  {
   "cell_type": "code",
   "execution_count": null,
   "id": "51b5a75e",
   "metadata": {},
   "outputs": [],
   "source": [
    "mat = np.random.uniform(size=(3,2))\n",
    "prod = np.einsum('ij,ik->kij', group_indices,mat)\n",
    "\n",
    "print(prod)\n",
    "\n"
   ]
  },
  {
   "cell_type": "code",
   "execution_count": 10,
   "id": "93fb5ebc",
   "metadata": {},
   "outputs": [
    {
     "ename": "TypeError",
     "evalue": "Metric.__init__() got an unexpected keyword argument 'name'",
     "output_type": "error",
     "traceback": [
      "\u001b[0;31m---------------------------------------------------------------------------\u001b[0m",
      "\u001b[0;31mTypeError\u001b[0m                                 Traceback (most recent call last)",
      "Cell \u001b[0;32mIn [10], line 8\u001b[0m\n\u001b[1;32m      3\u001b[0m \u001b[38;5;28;01mimport\u001b[39;00m \u001b[38;5;21;01mpandas\u001b[39;00m \u001b[38;5;28;01mas\u001b[39;00m \u001b[38;5;21;01mpd\u001b[39;00m\n\u001b[1;32m      5\u001b[0m audit_trail \u001b[38;5;241m=\u001b[39m pd\u001b[38;5;241m.\u001b[39mread_csv(\u001b[38;5;124m\"\u001b[39m\u001b[38;5;124m/Users/cherian/Projects/fairaudit/audit_trail.csv\u001b[39m\u001b[38;5;124m\"\u001b[39m)\n\u001b[0;32m----> 8\u001b[0m auditor \u001b[38;5;241m=\u001b[39m Certifier(audit_trail\u001b[38;5;241m.\u001b[39mx, audit_trail\u001b[38;5;241m.\u001b[39my, audit_trail\u001b[38;5;241m.\u001b[39mz, \u001b[43mMetric\u001b[49m\u001b[43m(\u001b[49m\u001b[43mname\u001b[49m\u001b[38;5;241;43m=\u001b[39;49m\u001b[38;5;124;43m\"\u001b[39;49m\u001b[38;5;124;43mstatistical_parity\u001b[39;49m\u001b[38;5;124;43m\"\u001b[39;49m\u001b[43m)\u001b[49m)\n",
      "\u001b[0;31mTypeError\u001b[0m: Metric.__init__() got an unexpected keyword argument 'name'"
     ]
    }
   ],
   "source": [
    "from certify import Certifier\n",
    "from metrics import Metric\n",
    "import pandas as pd\n",
    "\n",
    "audit_trail = pd.read_csv(\"/Users/cherian/Projects/fairaudit/audit_trail.csv\")\n",
    "\n",
    "\n",
    "auditor = Certifier(audit_trail.x, audit_trail.y, audit_trail.z, Metric(name=\"statistical_parity\"))\n",
    "\n",
    "\n"
   ]
  },
  {
   "cell_type": "code",
   "execution_count": 232,
   "id": "2b263662",
   "metadata": {},
   "outputs": [],
   "source": [
    "import numpy as np\n",
    "\n",
    "X = np.random.choice(np.arange(4), (500, 4))\n",
    "\n",
    "n = X.shape[0]\n",
    "p = X.shape[1]\n",
    "\n",
    "coordinate_dummies = []\n",
    "for c in range(p):\n",
    "    unique_vals, indices = np.unique(X[:,c], return_inverse=True, axis=0)\n",
    "\n",
    "    num_unique = len(unique_vals)\n",
    "    # generate unique dummies\n",
    "    unique_dummies = np.zeros((n, num_unique), dtype=int)\n",
    "    unique_dummies[(range(n), indices)] = int(1)\n",
    "\n",
    "    num_intervals = (num_unique * (num_unique + 1)) // 2\n",
    "    interval_dummies = np.zeros((n, num_intervals), dtype=int)\n",
    "\n",
    "    idx = num_unique\n",
    "    add_dummies = np.cumsum(unique_dummies, axis=1, dtype=int)\n",
    "    interval_dummies[:,0:idx] = add_dummies\n",
    "    \n",
    "    for c_prime in range(1, len(unique_vals)):\n",
    "        # update dummies by subtracting out contribution from first unique dummy\n",
    "        # and removing first column\n",
    "        num_added = num_unique - c_prime\n",
    "        add_dummies = add_dummies[:,1:num_unique] - add_dummies[:,0,None]\n",
    "        interval_dummies[:,idx:(idx + num_added)] = add_dummies\n",
    "        idx += num_added\n",
    "\n",
    "    interval_dummies = interval_dummies.clip(max=int(1))\n",
    "    coordinate_dummies.append(interval_dummies)"
   ]
  },
  {
   "cell_type": "code",
   "execution_count": 249,
   "id": "8dec6687",
   "metadata": {},
   "outputs": [
    {
     "name": "stdout",
     "output_type": "stream",
     "text": [
      "43.3 ms ± 1.68 ms per loop (mean ± std. dev. of 7 runs, 10 loops each)\n"
     ]
    }
   ],
   "source": [
    "chars = [chr(idx + 97) for idx in range(p)]\n",
    "einsum_str = ','.join(f'i{c}' for c in chars)\n",
    "einsum_str += '->i' + ''.join(chars)\n",
    "group_dummies = np.einsum(einsum_str, *coordinate_dummies, )\n",
    "group_dummies = group_dummies.reshape(n, -1, order='C')"
   ]
  },
  {
   "cell_type": "code",
   "execution_count": 253,
   "id": "fa7d29ef",
   "metadata": {},
   "outputs": [
    {
     "data": {
      "text/plain": [
       "array([[1, 2],\n",
       "       [3, 3]])"
      ]
     },
     "execution_count": 253,
     "metadata": {},
     "output_type": "execute_result"
    }
   ],
   "source": [
    "def run_test(**kwargs):\n",
    "    print(kwargs)\n",
    "    \n",
    "np.asarray([(1,2), (3, 3)])"
   ]
  },
  {
   "cell_type": "code",
   "execution_count": 229,
   "id": "ffff49b6",
   "metadata": {},
   "outputs": [
    {
     "data": {
      "text/plain": [
       "True"
      ]
     },
     "execution_count": 229,
     "metadata": {},
     "output_type": "execute_result"
    }
   ],
   "source": [
    "np.all(group_dummies_unpacked == group_dummies)"
   ]
  },
  {
   "cell_type": "code",
   "execution_count": 197,
   "id": "6988abaf",
   "metadata": {},
   "outputs": [],
   "source": [
    "from itertools import product\n",
    "\n",
    "def run_trial():\n",
    "    num_intervals = [range(interval_dummies.shape[1]) for interval_dummies in coordinate_dummies]\n",
    "    group_indices = list(product(*num_intervals))\n",
    "\n",
    "    num_groups = len(group_indices)\n",
    "\n",
    "    group_dummies = np.zeros((n, num_groups), dtype=int)\n",
    "    final_arr = np.ones((n, 1), dtype=int)\n",
    "\n",
    "    for i, g_index in enumerate(group_indices):\n",
    "        for j, g_i in enumerate(g_index):\n",
    "            final_arr *= coordinate_dummies[j][:,g_i,None]\n",
    "        group_dummies[:,i] = final_arr.flatten()\n",
    "        final_arr = 1\n",
    "    return group_dummies\n",
    "        \n",
    "group_dummies = run_trial()"
   ]
  },
  {
   "cell_type": "code",
   "execution_count": 198,
   "id": "6c4a5aa0",
   "metadata": {},
   "outputs": [
    {
     "data": {
      "text/plain": [
       "array([[0, 1, 1, 0, 1, 1, 0, 0, 0, 0, 1, 1, 0, 1, 1, 0, 0, 0, 0, 0, 0, 0,\n",
       "        0, 0, 0, 0, 0],\n",
       "       [0, 0, 0, 0, 0, 0, 0, 0, 0, 0, 1, 1, 0, 1, 1, 0, 0, 0, 0, 1, 1, 0,\n",
       "        1, 1, 0, 0, 0],\n",
       "       [0, 0, 0, 0, 0, 0, 0, 0, 0, 0, 0, 0, 1, 1, 0, 1, 1, 0, 0, 0, 0, 1,\n",
       "        1, 0, 1, 1, 0],\n",
       "       [0, 0, 0, 0, 0, 0, 0, 0, 0, 1, 1, 0, 1, 1, 0, 0, 0, 0, 1, 1, 0, 1,\n",
       "        1, 0, 0, 0, 0],\n",
       "       [0, 0, 0, 0, 1, 1, 0, 1, 1, 0, 0, 0, 0, 1, 1, 0, 1, 1, 0, 0, 0, 0,\n",
       "        0, 0, 0, 0, 0]])"
      ]
     },
     "execution_count": 198,
     "metadata": {},
     "output_type": "execute_result"
    }
   ],
   "source": [
    "group_dummies"
   ]
  },
  {
   "cell_type": "code",
   "execution_count": 182,
   "id": "a7d95699",
   "metadata": {},
   "outputs": [
    {
     "data": {
      "text/plain": [
       "array([[0, 1, 0, 1, 0, 0, 1, 1, 0, 1, 0, 1, 0, 0, 0, 0],\n",
       "       [1, 0, 0, 0, 1, 0, 1, 1, 1, 0, 0, 0, 0, 1, 0, 1],\n",
       "       [1, 0, 1, 0, 1, 1, 1, 1, 0, 0, 1, 1, 0, 1, 0, 0]])"
      ]
     },
     "execution_count": 182,
     "metadata": {},
     "output_type": "execute_result"
    }
   ],
   "source": [
    "test.reshape(3, -1)"
   ]
  }
 ],
 "metadata": {
  "kernelspec": {
   "display_name": "Python 3 (ipykernel)",
   "language": "python",
   "name": "python3"
  },
  "language_info": {
   "codemirror_mode": {
    "name": "ipython",
    "version": 3
   },
   "file_extension": ".py",
   "mimetype": "text/x-python",
   "name": "python",
   "nbconvert_exporter": "python",
   "pygments_lexer": "ipython3",
   "version": "3.10.8"
  }
 },
 "nbformat": 4,
 "nbformat_minor": 5
}
