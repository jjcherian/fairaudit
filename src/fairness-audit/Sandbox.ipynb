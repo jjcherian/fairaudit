{
 "cells": [
  {
   "cell_type": "code",
   "execution_count": null,
   "id": "58e4f9fa",
   "metadata": {},
   "outputs": [],
   "source": [
    "%load_ext autoreload\n",
    "%autoreload 2"
   ]
  },
  {
   "cell_type": "code",
   "execution_count": 546,
   "id": "45e5dc27",
   "metadata": {},
   "outputs": [
    {
     "name": "stderr",
     "output_type": "stream",
     "text": [
      "100%|█████████████████████████████████████████████████████████████████████████████████████████████████████████████████████████████████████████████████████████████████████████████████████████████████████████████████████████████████████████████████████████████████████████████████| 500/500 [00:00<00:00, 13671.31it/s]\n",
      "100%|██████████████████████████████████████████████████████████████████████████████████████████████████████████████████████████████████████████████████████████████████████████████████████████████████████████████████████████████████████████████████████████████████████████████████| 500/500 [00:00<00:00, 1737.42it/s]\n"
     ]
    },
    {
     "data": {
      "text/plain": [
       "True"
      ]
     },
     "execution_count": 546,
     "metadata": {},
     "output_type": "execute_result"
    }
   ],
   "source": [
    "def unit_test_rectangles():\n",
    "    import numpy as np\n",
    "    import matplotlib.pyplot as plt\n",
    "    from groups import get_rectangles\n",
    "    \n",
    "    np.random.seed(123)\n",
    "\n",
    "    X1 = np.random.choice([0,1], size=(3,)) \n",
    "    X2 = np.random.choice(np.arange(2), size=(3,))\n",
    "\n",
    "    X = np.stack((X1, X2), axis=1)\n",
    "    \n",
    "    rects = get_rectangles(X)\n",
    "    \n",
    "    true_rects = np.asarray([\n",
    "        [False, True, True], \n",
    "        [True, False, True], \n",
    "        [False, True, True]\n",
    "    ])\n",
    "    return (rects == true_rects).all()\n",
    "\n",
    "def unit_test_intervals():\n",
    "    # verify that rectangles score matches interval score\n",
    "\n",
    "    from auditor import Auditor\n",
    "    from metrics import Metric\n",
    "    from groups import get_rectangles\n",
    "    from scipy.stats import norm\n",
    "\n",
    "    rng = np.random.default_rng(seed = 0)\n",
    "\n",
    "    X = rng.uniform(0, 5, (100,1))\n",
    "    Y = X + 0.1 * rng.standard_normal(size=(100,1))\n",
    "    Z1 = X - norm.ppf(0.95, scale=0.1)\n",
    "    Z2 = X + norm.ppf(0.95, scale=0.5)\n",
    "    Z = np.hstack([Z1, Z2])\n",
    "\n",
    "    metric = Metric(\"equalized_coverage\")\n",
    "\n",
    "    auditor = Auditor(X=X, Y=Y, Z=Z, metric=metric)\n",
    "    auditor.calibrate_groups(\n",
    "        alpha=0.05,\n",
    "        type=\"upper\",\n",
    "        groups=\"intervals\",\n",
    "        epsilon=0.55\n",
    "    )\n",
    "\n",
    "    cert, metric = auditor.query_group(\n",
    "        X <= 1\n",
    "    )\n",
    "    \n",
    "    intervals = get_rectangles(X)\n",
    "\n",
    "    auditor.calibrate_groups(\n",
    "        alpha=0.05,\n",
    "        type=\"upper\",\n",
    "        groups=intervals,\n",
    "        epsilon=0.55\n",
    "    )\n",
    "\n",
    "    cert_bf, metric = auditor.query_group(\n",
    "        X <= 1\n",
    "    )\n",
    "    return np.all(cert == cert_bf)"
   ]
  },
  {
   "cell_type": "code",
   "execution_count": 319,
   "id": "89ad310d",
   "metadata": {},
   "outputs": [],
   "source": [
    "from itertools import combinations \n",
    "\n",
    "discretization = {1 : [2,3]}\n",
    "\n",
    "for idx, disc in discretization.items():\n",
    "    X[:,idx] = np.digitize(\n",
    "        X[:,idx],\n",
    "        disc\n",
    "    )\n",
    "\n",
    "\n",
    "feature_list = np.arange(X.shape[1])\n",
    "depth = X.shape[1]\n",
    "all_groups = []\n",
    "group_indices = []\n",
    "for n_intersect in range(1, depth + 1):\n",
    "    for c in combinations(feature_list, n_intersect):\n",
    "        unique_groups, indices = np.unique(X[:,c], return_inverse=True, axis=0)\n",
    "\n",
    "        # track groups\n",
    "        all_groups.extend([{c_ind : g_val for c_ind, g_val in zip(c, g)} for g in unique_groups])\n",
    "\n",
    "        # generate dummies\n",
    "        dummies = np.zeros((X.shape[0], len(unique_groups)), dtype=int)\n",
    "        dummies[(range(X.shape[0]), indices)] = int(1)\n",
    "        group_indices.append(dummies)\n",
    "\n",
    "group_indices = np.concatenate(group_indices, axis=1, dtype=int)"
   ]
  },
  {
   "cell_type": "code",
   "execution_count": 358,
   "id": "defe8d80",
   "metadata": {},
   "outputs": [
    {
     "name": "stdout",
     "output_type": "stream",
     "text": [
      "[[ True  True False]\n",
      " [ True False  True]\n",
      " [False False False]\n",
      " [False False  True]\n",
      " [ True False False]]\n",
      "[ True  True False  True  True]\n"
     ]
    }
   ],
   "source": [
    "arr = np.random.choice([0,1], size=(5,3)).astype(bool)\n",
    "print(arr)\n",
    "\n",
    "print(np.amax(arr, axis=1))\n"
   ]
  },
  {
   "cell_type": "code",
   "execution_count": 350,
   "id": "7033a1f1",
   "metadata": {},
   "outputs": [
    {
     "name": "stdout",
     "output_type": "stream",
     "text": [
      "[[[ True False  True  True False]\n",
      "  [False  True  True False  True]\n",
      "  [ True False  True  True False]\n",
      "  [ True False  True  True False]\n",
      "  [False  True  True False  True]]\n",
      "\n",
      " [[ True False  True  True False]\n",
      "  [False  True  True False  True]\n",
      "  [ True False  True  True False]\n",
      "  [ True False  True  True False]\n",
      "  [False  True  True False  True]]]\n"
     ]
    }
   ],
   "source": [
    "np.random.seed(0)\n",
    "mat = np.random.uniform(size=(5,2)).astype(bool)\n",
    "prod = np.einsum('ij,ik->kij', group_indices.astype(bool),mat)\n",
    "\n",
    "print(prod)\n",
    "\n"
   ]
  },
  {
   "cell_type": "code",
   "execution_count": 10,
   "id": "f5c0e5aa",
   "metadata": {},
   "outputs": [
    {
     "ename": "TypeError",
     "evalue": "Metric.__init__() got an unexpected keyword argument 'name'",
     "output_type": "error",
     "traceback": [
      "\u001b[0;31m---------------------------------------------------------------------------\u001b[0m",
      "\u001b[0;31mTypeError\u001b[0m                                 Traceback (most recent call last)",
      "Cell \u001b[0;32mIn [10], line 8\u001b[0m\n\u001b[1;32m      3\u001b[0m \u001b[38;5;28;01mimport\u001b[39;00m \u001b[38;5;21;01mpandas\u001b[39;00m \u001b[38;5;28;01mas\u001b[39;00m \u001b[38;5;21;01mpd\u001b[39;00m\n\u001b[1;32m      5\u001b[0m audit_trail \u001b[38;5;241m=\u001b[39m pd\u001b[38;5;241m.\u001b[39mread_csv(\u001b[38;5;124m\"\u001b[39m\u001b[38;5;124m/Users/cherian/Projects/fairaudit/audit_trail.csv\u001b[39m\u001b[38;5;124m\"\u001b[39m)\n\u001b[0;32m----> 8\u001b[0m auditor \u001b[38;5;241m=\u001b[39m Certifier(audit_trail\u001b[38;5;241m.\u001b[39mx, audit_trail\u001b[38;5;241m.\u001b[39my, audit_trail\u001b[38;5;241m.\u001b[39mz, \u001b[43mMetric\u001b[49m\u001b[43m(\u001b[49m\u001b[43mname\u001b[49m\u001b[38;5;241;43m=\u001b[39;49m\u001b[38;5;124;43m\"\u001b[39;49m\u001b[38;5;124;43mstatistical_parity\u001b[39;49m\u001b[38;5;124;43m\"\u001b[39;49m\u001b[43m)\u001b[49m)\n",
      "\u001b[0;31mTypeError\u001b[0m: Metric.__init__() got an unexpected keyword argument 'name'"
     ]
    }
   ],
   "source": [
    "from certify import Certifier\n",
    "from metrics import Metric\n",
    "import pandas as pd\n",
    "\n",
    "audit_trail = pd.read_csv(\"/Users/cherian/Projects/fairaudit/audit_trail.csv\")\n",
    "\n",
    "\n",
    "auditor = Certifier(audit_trail.x, audit_trail.y, audit_trail.z, Metric(name=\"statistical_parity\"))\n",
    "\n",
    "\n"
   ]
  },
  {
   "cell_type": "code",
   "execution_count": 232,
   "id": "63029230",
   "metadata": {},
   "outputs": [],
   "source": [
    "import numpy as np\n",
    "\n",
    "X = np.random.choice(np.arange(4), (500, 4))\n",
    "\n",
    "n = X.shape[0]\n",
    "p = X.shape[1]\n",
    "\n",
    "coordinate_dummies = []\n",
    "for c in range(p):\n",
    "    unique_vals, indices = np.unique(X[:,c], return_inverse=True, axis=0)\n",
    "\n",
    "    num_unique = len(unique_vals)\n",
    "    # generate unique dummies\n",
    "    unique_dummies = np.zeros((n, num_unique), dtype=int)\n",
    "    unique_dummies[(range(n), indices)] = int(1)\n",
    "\n",
    "    num_intervals = (num_unique * (num_unique + 1)) // 2\n",
    "    interval_dummies = np.zeros((n, num_intervals), dtype=int)\n",
    "\n",
    "    idx = num_unique\n",
    "    add_dummies = np.cumsum(unique_dummies, axis=1, dtype=int)\n",
    "    interval_dummies[:,0:idx] = add_dummies\n",
    "    \n",
    "    for c_prime in range(1, len(unique_vals)):\n",
    "        # update dummies by subtracting out contribution from first unique dummy\n",
    "        # and removing first column\n",
    "        num_added = num_unique - c_prime\n",
    "        add_dummies = add_dummies[:,1:num_unique] - add_dummies[:,0,None]\n",
    "        interval_dummies[:,idx:(idx + num_added)] = add_dummies\n",
    "        idx += num_added\n",
    "\n",
    "    interval_dummies = interval_dummies.clip(max=int(1))\n",
    "    coordinate_dummies.append(interval_dummies)"
   ]
  },
  {
   "cell_type": "code",
   "execution_count": 249,
   "id": "ecca9c97",
   "metadata": {},
   "outputs": [
    {
     "name": "stdout",
     "output_type": "stream",
     "text": [
      "43.3 ms ± 1.68 ms per loop (mean ± std. dev. of 7 runs, 10 loops each)\n"
     ]
    }
   ],
   "source": [
    "chars = [chr(idx + 97) for idx in range(p)]\n",
    "einsum_str = ','.join(f'i{c}' for c in chars)\n",
    "einsum_str += '->i' + ''.join(chars)\n",
    "group_dummies = np.einsum(einsum_str, *coordinate_dummies, )\n",
    "group_dummies = group_dummies.reshape(n, -1, order='C')"
   ]
  },
  {
   "cell_type": "code",
   "execution_count": 253,
   "id": "b663d742",
   "metadata": {},
   "outputs": [
    {
     "data": {
      "text/plain": [
       "array([[1, 2],\n",
       "       [3, 3]])"
      ]
     },
     "execution_count": 253,
     "metadata": {},
     "output_type": "execute_result"
    }
   ],
   "source": [
    "def run_test(**kwargs):\n",
    "    print(kwargs)\n",
    "    \n",
    "np.asarray([(1,2), (3, 3)])"
   ]
  },
  {
   "cell_type": "code",
   "execution_count": 229,
   "id": "61ea47fb",
   "metadata": {},
   "outputs": [
    {
     "data": {
      "text/plain": [
       "True"
      ]
     },
     "execution_count": 229,
     "metadata": {},
     "output_type": "execute_result"
    }
   ],
   "source": [
    "np.all(group_dummies_unpacked == group_dummies)"
   ]
  },
  {
   "cell_type": "code",
   "execution_count": 197,
   "id": "e2e3692f",
   "metadata": {},
   "outputs": [],
   "source": [
    "from itertools import product\n",
    "\n",
    "def run_trial():\n",
    "    num_intervals = [range(interval_dummies.shape[1]) for interval_dummies in coordinate_dummies]\n",
    "    group_indices = list(product(*num_intervals))\n",
    "\n",
    "    num_groups = len(group_indices)\n",
    "\n",
    "    group_dummies = np.zeros((n, num_groups), dtype=int)\n",
    "    final_arr = np.ones((n, 1), dtype=int)\n",
    "\n",
    "    for i, g_index in enumerate(group_indices):\n",
    "        for j, g_i in enumerate(g_index):\n",
    "            final_arr *= coordinate_dummies[j][:,g_i,None]\n",
    "        group_dummies[:,i] = final_arr.flatten()\n",
    "        final_arr = 1\n",
    "    return group_dummies\n",
    "        \n",
    "group_dummies = run_trial()"
   ]
  },
  {
   "cell_type": "code",
   "execution_count": 198,
   "id": "a6df6a4a",
   "metadata": {},
   "outputs": [
    {
     "data": {
      "text/plain": [
       "array([[0, 1, 1, 0, 1, 1, 0, 0, 0, 0, 1, 1, 0, 1, 1, 0, 0, 0, 0, 0, 0, 0,\n",
       "        0, 0, 0, 0, 0],\n",
       "       [0, 0, 0, 0, 0, 0, 0, 0, 0, 0, 1, 1, 0, 1, 1, 0, 0, 0, 0, 1, 1, 0,\n",
       "        1, 1, 0, 0, 0],\n",
       "       [0, 0, 0, 0, 0, 0, 0, 0, 0, 0, 0, 0, 1, 1, 0, 1, 1, 0, 0, 0, 0, 1,\n",
       "        1, 0, 1, 1, 0],\n",
       "       [0, 0, 0, 0, 0, 0, 0, 0, 0, 1, 1, 0, 1, 1, 0, 0, 0, 0, 1, 1, 0, 1,\n",
       "        1, 0, 0, 0, 0],\n",
       "       [0, 0, 0, 0, 1, 1, 0, 1, 1, 0, 0, 0, 0, 1, 1, 0, 1, 1, 0, 0, 0, 0,\n",
       "        0, 0, 0, 0, 0]])"
      ]
     },
     "execution_count": 198,
     "metadata": {},
     "output_type": "execute_result"
    }
   ],
   "source": [
    "group_dummies"
   ]
  },
  {
   "cell_type": "code",
   "execution_count": 182,
   "id": "861c7824",
   "metadata": {},
   "outputs": [
    {
     "data": {
      "text/plain": [
       "array([[0, 1, 0, 1, 0, 0, 1, 1, 0, 1, 0, 1, 0, 0, 0, 0],\n",
       "       [1, 0, 0, 0, 1, 0, 1, 1, 1, 0, 0, 0, 0, 1, 0, 1],\n",
       "       [1, 0, 1, 0, 1, 1, 1, 1, 0, 0, 1, 1, 0, 1, 0, 0]])"
      ]
     },
     "execution_count": 182,
     "metadata": {},
     "output_type": "execute_result"
    }
   ],
   "source": [
    "test.reshape(3, -1)"
   ]
  }
 ],
 "metadata": {
  "kernelspec": {
   "display_name": "Python 3 (ipykernel)",
   "language": "python",
   "name": "python3"
  },
  "language_info": {
   "codemirror_mode": {
    "name": "ipython",
    "version": 3
   },
   "file_extension": ".py",
   "mimetype": "text/x-python",
   "name": "python",
   "nbconvert_exporter": "python",
   "pygments_lexer": "ipython3",
   "version": "3.10.8"
  }
 },
 "nbformat": 4,
 "nbformat_minor": 5
}
